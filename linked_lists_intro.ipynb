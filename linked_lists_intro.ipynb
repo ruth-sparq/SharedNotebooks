{
 "cells": [
  {
   "cell_type": "markdown",
   "id": "c014f999",
   "metadata": {},
   "source": [
    "# An Introduction to Linked Lists\n",
    "\n",
    "This notebook is intended to go alongside the LeetCode linked list problems, but also it should hopefully help give you a more general understanding of what linked lists are, how they work and how they can be used in Python (although the logic is of course aplicable to other languages)\n",
    "\n",
    "**Author:** Ruth Walton, September 2024\n",
    "\n",
    "## ListNode Class\n",
    "\n",
    "This is the definition of a `ListNode` class for a singly-linked list, as provided by LeetCode. As the name suggests, this represents a single node within a linked list, and a series of these connected together would make up a linked list. "
   ]
  },
  {
   "cell_type": "code",
   "execution_count": 1,
   "id": "558a35f1",
   "metadata": {},
   "outputs": [],
   "source": [
    "# Definition for singly-linked list.\n",
    "class ListNode:\n",
    "    def __init__(self, val=0, next=None):\n",
    "        self.val = val\n",
    "        self.next = next"
   ]
  },
  {
   "cell_type": "markdown",
   "id": "122bea0f",
   "metadata": {},
   "source": [
    "Unlike traditional list structures, a linked list defined using this class is not an object in itself but rather a sequence of connected `ListNode` objects.\n",
    "\n",
    "### Initialising a linked list manually\n",
    "\n",
    "As a basic example, we can start by initialising three `ListNode` objects and connecting them together. These `ListNode`s are initialised with integer values, but the `val` attribute can be anything, including a pointer to another object."
   ]
  },
  {
   "cell_type": "code",
   "execution_count": 2,
   "id": "0f209379",
   "metadata": {},
   "outputs": [],
   "source": [
    "listnode1 = ListNode(val=1)\n",
    "listnode2 = ListNode(val=2)\n",
    "listnode3 = ListNode(val=3)\n",
    "\n",
    "listnode1.next = listnode2\n",
    "listnode2.next = listnode3"
   ]
  },
  {
   "cell_type": "markdown",
   "id": "0045255d",
   "metadata": {},
   "source": [
    "To link these objects together, we set their `next` attributes once all the nodes have been initialised. Note, `listnode3` doesn't have a `next` attribute as this is the end of our linked list.\n",
    "\n",
    "We can now access `listnode2` directly from `listnode1`"
   ]
  },
  {
   "cell_type": "code",
   "execution_count": 3,
   "id": "922f7318",
   "metadata": {},
   "outputs": [
    {
     "name": "stdout",
     "output_type": "stream",
     "text": [
      "listnode1 has value 1, its location in memory is <__main__.ListNode object at 0x1085f6510>\n",
      "\n",
      "listnode1.next has value 2, its location in memory is <__main__.ListNode object at 0x1085f7510>\n",
      "\n",
      "listnode2 has value 2, its location in memory is <__main__.ListNode object at 0x1085f7510>\n"
     ]
    }
   ],
   "source": [
    "print(f\"listnode1 has value {listnode1.val}, its location in memory is {listnode1}\\n\")\n",
    "print(f\"listnode1.next has value {listnode1.next.val}, its location in memory is {listnode1.next}\\n\")\n",
    "print(f\"listnode2 has value {listnode2.val}, its location in memory is {listnode2}\")"
   ]
  },
  {
   "cell_type": "markdown",
   "id": "77cb50e2",
   "metadata": {},
   "source": [
    "Note that the two lines above have the same value and point to the same location in memory, so we can see that `listnode1.next` and `listnode2` point to the same `ListNode` object. This can be extended infinitely (if you had a linked list of infinite length...), in our example we can see how `listnode1` and `listnode3` are connected"
   ]
  },
  {
   "cell_type": "code",
   "execution_count": 4,
   "id": "d9ece25c",
   "metadata": {},
   "outputs": [
    {
     "name": "stdout",
     "output_type": "stream",
     "text": [
      "listnode1.next.next has value 3, its location in memory is <__main__.ListNode object at 0x1085f6b50>\n",
      "\n",
      "listnode3 has value 3, its location in memory is <__main__.ListNode object at 0x1085f6b50>\n"
     ]
    }
   ],
   "source": [
    "print(f\"listnode1.next.next has value {listnode1.next.next.val}, its location in memory is {listnode1.next.next}\\n\")\n",
    "print(f\"listnode3 has value {listnode3.val}, its location in memory is {listnode3}\")"
   ]
  },
  {
   "cell_type": "markdown",
   "id": "24ab9132",
   "metadata": {},
   "source": [
    "Again, we can see that these two lines have the same value and point to the same object in memory, so `listnode1.next.next` is `listnode3`"
   ]
  },
  {
   "cell_type": "markdown",
   "id": "1f50f456",
   "metadata": {},
   "source": [
    "Finally if we look at `listnode3.next` we can see this has no value, as `listnode3` is the end of our list"
   ]
  },
  {
   "cell_type": "code",
   "execution_count": 5,
   "id": "e02f3bbf",
   "metadata": {},
   "outputs": [],
   "source": [
    "listnode3.next"
   ]
  },
  {
   "cell_type": "markdown",
   "id": "af2c162b",
   "metadata": {},
   "source": [
    "This is a good example of a simple singly linked list, but if we wanted to define something much longer this approach would be very inefficient.\n",
    "\n",
    "### Initialising a linked list using a recursive function\n",
    "\n",
    "Below is an example of a recursive closure function which can be used to convert a traditional list to a linked list which is much easier than using the manual approach above, and is also useful if you are working locally on LeetCode problems!"
   ]
  },
  {
   "cell_type": "code",
   "execution_count": 6,
   "id": "3430b065",
   "metadata": {},
   "outputs": [],
   "source": [
    "def to_linked_list(items: list[int]) -> ListNode:\n",
    "    \"\"\"Create linked list from list of values.\"\"\"\n",
    "    n = len(items)\n",
    "    if n == 0:\n",
    "        return None\n",
    "    def new_node(index: int = 0) -> ListNode:\n",
    "        \"\"\"Closure function using recursion to build linked list\"\"\"\n",
    "        if index == n:\n",
    "            return None\n",
    "        node = ListNode(items[index])\n",
    "        node.next = new_node(index+1)\n",
    "        return node\n",
    "    return new_node()\n",
    "\n",
    "# head is a term often used to refer to the first node in a linked list\n",
    "head = to_linked_list(items=[1,2,3])"
   ]
  },
  {
   "cell_type": "code",
   "execution_count": 7,
   "id": "a5a6b986",
   "metadata": {},
   "outputs": [
    {
     "name": "stdout",
     "output_type": "stream",
     "text": [
      "head has value 1, its location in memory is <__main__.ListNode object at 0x1085f7090>\n",
      "\n",
      "head.next has value 2, its location in memory is <__main__.ListNode object at 0x1085f57d0>\n",
      "\n",
      "head.next.next has value 3, its location in memory is <__main__.ListNode object at 0x1085f8650>\n"
     ]
    }
   ],
   "source": [
    "print(f\"head has value {head.val}, its location in memory is {head}\\n\")\n",
    "print(f\"head.next has value {head.next.val}, its location in memory is {head.next}\\n\")\n",
    "print(f\"head.next.next has value {head.next.next.val}, its location in memory is {head.next.next}\")"
   ]
  },
  {
   "cell_type": "markdown",
   "id": "29290243",
   "metadata": {},
   "source": [
    "As with the previous example, we can see that the values of the nodes in our linked list are 1, 2 and 3 respectively. Unlike the previous example though, we don't have a direct pointer to the second node in the list (i.e. `listnode2`). The only way to access the second node is `head.next`, and `head.next.next` for the third etc.\n",
    "\n",
    "It's also important to note that linked lists using the above class definition can't be compared in the way that traditional lists can. If we have two lists `a = [1, 2, 3]` and `b = [1, 2, 3]`, we know that `a == b` would return `True`. However if we compare the first node of each of the previous examples, we don't get the same result"
   ]
  },
  {
   "cell_type": "code",
   "execution_count": 8,
   "id": "34a1b5be",
   "metadata": {},
   "outputs": [
    {
     "data": {
      "text/plain": [
       "False"
      ]
     },
     "execution_count": 8,
     "metadata": {},
     "output_type": "execute_result"
    }
   ],
   "source": [
    "listnode1 == head"
   ]
  },
  {
   "cell_type": "markdown",
   "id": "3827b30d",
   "metadata": {},
   "source": [
    "We can see that these are not equal, and we know that's because they are pointing to different objects in memory. If we compared their values instead, then we would have a different result"
   ]
  },
  {
   "cell_type": "code",
   "execution_count": 9,
   "id": "d13b610b",
   "metadata": {},
   "outputs": [
    {
     "data": {
      "text/plain": [
       "True"
      ]
     },
     "execution_count": 9,
     "metadata": {},
     "output_type": "execute_result"
    }
   ],
   "source": [
    "listnode1.val == head.val"
   ]
  },
  {
   "cell_type": "markdown",
   "id": "6056914c",
   "metadata": {},
   "source": [
    "In reality with more complex defintions of `ListNode`, and indeed `LinkedList` classes which act as a wrapper for `ListNode` objects, we can define methods such as `__eq__()`, `__len__()` etc. which would mean our linked lists behave more like the traditional objects that we are used to, and can be compared to other linked lists or we can finf their length using `len()`.\n",
    "\n",
    "At this point, it can be very easy to wonder what practical use cases there are for linked lists, so keep reading for a bit more information on that too!\n",
    "\n",
    "## Using Linked Lists"
   ]
  },
  {
   "cell_type": "markdown",
   "id": "4ceafb13",
   "metadata": {},
   "source": [
    "As linked lists are so different to list structures that we are used to, it can be unclear at first why they are useful. Their usefulness relates to the complexity of performing certain operations. In particular, adding or removing the first element of a linked list has computation complexity $O(1)$, whereas the same operation on a traditional list has complexity $O(n)$.\n",
    "\n",
    "This complexity also applies to adding/removing the last element in a linked list when using **doubly linked lists**, but those won't be covered here yet.\n",
    "\n",
    "[This article](https://mariam-jaludi.medium.com/data-structures-linked-lists-8f277b61cca) has some great explantions about linked lists, but **read with caution** if you are planning to do some of the LeetCode linked list problems, as some of those are covered by the author.\n",
    "\n",
    "### A practical example\n",
    "\n",
    "If we want to model a queueing system, in this case one which holds the First In First Out (FIFO) property (i.e. customers only ever leave the queue in the order in which they arrived), this can be done more efficiently with a linked list than with an array-based list.\n",
    "\n",
    "Say we have a `Customer` class which represent individual customers in our system. We have a linked list where each `ListNode.val` points to a `Customer` object, and each `ListNode.next` points to the node related to the next cusotmer in the queue. "
   ]
  },
  {
   "cell_type": "code",
   "execution_count": 10,
   "id": "9e2294e1",
   "metadata": {},
   "outputs": [
    {
     "name": "stdout",
     "output_type": "stream",
     "text": [
      "The first customer in the list has ID 0\n",
      "The second customer in the list has ID 1\n"
     ]
    }
   ],
   "source": [
    "class Customer:\n",
    "    def __init__(self, id: int):\n",
    "        self.id = id\n",
    "\n",
    "# initialise list of 10 customers\n",
    "cust_list = [Customer(i) for i in range(10)]\n",
    "\n",
    "# convert to linked list\n",
    "cust_head = to_linked_list(items=cust_list)\n",
    "\n",
    "print(f\"The first customer in the list has ID {cust_head.val.id}\")\n",
    "print(f\"The second customer in the list has ID {cust_head.next.val.id}\")"
   ]
  },
  {
   "cell_type": "markdown",
   "id": "139c4ddc",
   "metadata": {},
   "source": [
    "A principal behaviour of a queue of this type is that the first person in the queue will regularly leave the queue, and from the explanation above we know that removing the first element of a linked list has complexity $O(1)$, compared to $O(n)$ for an array-based list. This is done by simply changing where `cust_head` points."
   ]
  },
  {
   "cell_type": "code",
   "execution_count": 11,
   "id": "44366ccc",
   "metadata": {},
   "outputs": [
    {
     "name": "stdout",
     "output_type": "stream",
     "text": [
      "The first customer in the list has ID 1\n",
      "The second customer in the list has ID 2\n"
     ]
    }
   ],
   "source": [
    "# set the new head of the queue to be the customer who was second in the queue\n",
    "cust_head = cust_head.next\n",
    "\n",
    "print(f\"The first customer in the list has ID {cust_head.val.id}\")\n",
    "print(f\"The second customer in the list has ID {cust_head.next.val.id}\")"
   ]
  },
  {
   "cell_type": "markdown",
   "id": "04d6a894",
   "metadata": {},
   "source": [
    "Similarly, if we had a doubly linked list then the action of adding a customer to the end of the queue would also have complexity $O(1)$. Given that adding and removing customers from the start and end of this queue are the primary operations that would happen in a FIFO queueing system, modelling these with each action taking $O(1)$ instead of $O(n)$ time is a big improvement, especially for long queues! \n",
    "\n",
    "This is just one example of where linked lists can be used, the possibilities are many and varied and there's lots of interesting material online if you want to learn more.\n",
    "\n",
    "I hope you've enjoyed this brief intriduction to linked lists, and I hope it has helped to increase your understanding of how they work and where they might be used."
   ]
  },
  {
   "cell_type": "code",
   "execution_count": null,
   "id": "b94e2871",
   "metadata": {},
   "outputs": [],
   "source": []
  }
 ],
 "metadata": {
  "kernelspec": {
   "display_name": "Python 3 (ipykernel)",
   "language": "python",
   "name": "python3"
  },
  "language_info": {
   "codemirror_mode": {
    "name": "ipython",
    "version": 3
   },
   "file_extension": ".py",
   "mimetype": "text/x-python",
   "name": "python",
   "nbconvert_exporter": "python",
   "pygments_lexer": "ipython3",
   "version": "3.11.5"
  }
 },
 "nbformat": 4,
 "nbformat_minor": 5
}
